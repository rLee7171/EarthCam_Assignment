{
 "cells": [
  {
   "cell_type": "code",
   "execution_count": 1,
   "id": "a1f49664",
   "metadata": {},
   "outputs": [],
   "source": [
    "import math\n",
    "import json\n",
    "import random\n",
    "import ast\n",
    "import numpy as np\n",
    "import pandas as pd\n",
    "import xgboost as xgb\n",
    "import matplotlib.pyplot as plt\n",
    "import seaborn as sns\n",
    "from datetime import datetime\n",
    "from xgboost import XGBRegressor\n",
    "from sklearn.metrics import mean_squared_error"
   ]
  },
  {
   "cell_type": "code",
   "execution_count": 2,
   "id": "b10d8565",
   "metadata": {},
   "outputs": [],
   "source": [
    "random.seed(1)\n",
    "weather_data = pd.read_csv(\"/Users/ryanlee/Desktop/EarthCam_Assignment/EarthCam_DataScience_Data.csv\")"
   ]
  },
  {
   "cell_type": "code",
   "execution_count": 3,
   "id": "decf4280",
   "metadata": {},
   "outputs": [
    {
     "name": "stdout",
     "output_type": "stream",
     "text": [
      "Number of rows: 7324, Number of columns: 27\n"
     ]
    }
   ],
   "source": [
    "rows = len(weather_data.axes[0])\n",
    "cols = len(weather_data.axes[1])\n",
    "print(f\"Number of rows: {rows}, Number of columns: {cols}\")"
   ]
  },
  {
   "cell_type": "code",
   "execution_count": 4,
   "id": "2bbb5a15",
   "metadata": {
    "scrolled": true
   },
   "outputs": [
    {
     "data": {
      "text/html": [
       "<div>\n",
       "<style scoped>\n",
       "    .dataframe tbody tr th:only-of-type {\n",
       "        vertical-align: middle;\n",
       "    }\n",
       "\n",
       "    .dataframe tbody tr th {\n",
       "        vertical-align: top;\n",
       "    }\n",
       "\n",
       "    .dataframe thead th {\n",
       "        text-align: right;\n",
       "    }\n",
       "</style>\n",
       "<table border=\"1\" class=\"dataframe\">\n",
       "  <thead>\n",
       "    <tr style=\"text-align: right;\">\n",
       "      <th></th>\n",
       "      <th>ObservedAt</th>\n",
       "      <th>ObservedAt_DateTime</th>\n",
       "      <th>Station</th>\n",
       "      <th>Record</th>\n",
       "      <th>ID</th>\n",
       "      <th>datetime</th>\n",
       "      <th>Temperature</th>\n",
       "      <th>Dewpoint</th>\n",
       "      <th>FeelsLike</th>\n",
       "      <th>HeatIndex</th>\n",
       "    </tr>\n",
       "  </thead>\n",
       "  <tbody>\n",
       "    <tr>\n",
       "      <th>0</th>\n",
       "      <td>1525172100</td>\n",
       "      <td>5/1/2018 5:55</td>\n",
       "      <td>KJOT</td>\n",
       "      <td>011055Z AUTO 19004KT 10SM CLR 13/03 A3000 RMK ...</td>\n",
       "      <td>220160752</td>\n",
       "      <td>{'timezone': 'America/Chicago', 'string_local'...</td>\n",
       "      <td>{'Fahrenheit': 55, 'Celsius': 13}</td>\n",
       "      <td>{'Fahrenheit': 37, 'Celsius': 3}</td>\n",
       "      <td>{'Type': None, 'Fahrenheit': 55, 'Celsius': 13}</td>\n",
       "      <td>{'Fahrenheit': None, 'Celsius': None}</td>\n",
       "    </tr>\n",
       "    <tr>\n",
       "      <th>1</th>\n",
       "      <td>1525193700</td>\n",
       "      <td>5/1/2018 11:55</td>\n",
       "      <td>KJOT</td>\n",
       "      <td>011655Z AUTO 23013G23KT 10SM SCT065 27/11 A299...</td>\n",
       "      <td>220215015</td>\n",
       "      <td>{'timezone': 'America/Chicago', 'string_local'...</td>\n",
       "      <td>{'Fahrenheit': 81, 'Celsius': 27}</td>\n",
       "      <td>{'Fahrenheit': 52, 'Celsius': 11}</td>\n",
       "      <td>{'Type': None, 'Fahrenheit': 81, 'Celsius': 27}</td>\n",
       "      <td>{'Fahrenheit': None, 'Celsius': None}</td>\n",
       "    </tr>\n",
       "    <tr>\n",
       "      <th>2</th>\n",
       "      <td>1525215300</td>\n",
       "      <td>5/1/2018 17:55</td>\n",
       "      <td>KJOT</td>\n",
       "      <td>012255Z AUTO 19012G20KT 10SM CLR 28/09 A2991 R...</td>\n",
       "      <td>220262557</td>\n",
       "      <td>{'timezone': 'America/Chicago', 'string_local'...</td>\n",
       "      <td>{'Fahrenheit': 82, 'Celsius': 28}</td>\n",
       "      <td>{'Fahrenheit': 48, 'Celsius': 9}</td>\n",
       "      <td>{'Type': None, 'Fahrenheit': 82, 'Celsius': 28}</td>\n",
       "      <td>{'Fahrenheit': None, 'Celsius': None}</td>\n",
       "    </tr>\n",
       "    <tr>\n",
       "      <th>3</th>\n",
       "      <td>1525236900</td>\n",
       "      <td>5/1/2018 23:55</td>\n",
       "      <td>KJOT</td>\n",
       "      <td>020455Z AUTO 20013G18KT 10SM CLR 23/11 A2994 R...</td>\n",
       "      <td>220311850</td>\n",
       "      <td>{'timezone': 'America/Chicago', 'string_local'...</td>\n",
       "      <td>{'Fahrenheit': 73, 'Celsius': 23}</td>\n",
       "      <td>{'Fahrenheit': 52, 'Celsius': 11}</td>\n",
       "      <td>{'Type': None, 'Fahrenheit': 73, 'Celsius': 23}</td>\n",
       "      <td>{'Fahrenheit': None, 'Celsius': None}</td>\n",
       "    </tr>\n",
       "    <tr>\n",
       "      <th>4</th>\n",
       "      <td>1525258500</td>\n",
       "      <td>5/2/2018 5:55</td>\n",
       "      <td>KJOT</td>\n",
       "      <td>021055Z AUTO 21008KT 10SM CLR 21/11 A2991 RMK ...</td>\n",
       "      <td>220363232</td>\n",
       "      <td>{'timezone': 'America/Chicago', 'string_local'...</td>\n",
       "      <td>{'Fahrenheit': 70, 'Celsius': 21}</td>\n",
       "      <td>{'Fahrenheit': 52, 'Celsius': 11}</td>\n",
       "      <td>{'Type': None, 'Fahrenheit': 70, 'Celsius': 21}</td>\n",
       "      <td>{'Fahrenheit': None, 'Celsius': None}</td>\n",
       "    </tr>\n",
       "    <tr>\n",
       "      <th>5</th>\n",
       "      <td>1525280100</td>\n",
       "      <td>5/2/2018 11:55</td>\n",
       "      <td>KJOT</td>\n",
       "      <td>021655Z AUTO 24012G21KT 10SM CLR 28/12 A2994 R...</td>\n",
       "      <td>220415815</td>\n",
       "      <td>{'timezone': 'America/Chicago', 'string_local'...</td>\n",
       "      <td>{'Fahrenheit': 82, 'Celsius': 28}</td>\n",
       "      <td>{'Fahrenheit': 54, 'Celsius': 12}</td>\n",
       "      <td>{'Type': None, 'Fahrenheit': 82, 'Celsius': 28}</td>\n",
       "      <td>{'Fahrenheit': None, 'Celsius': None}</td>\n",
       "    </tr>\n",
       "    <tr>\n",
       "      <th>6</th>\n",
       "      <td>1525301700</td>\n",
       "      <td>5/2/2018 17:55</td>\n",
       "      <td>KJOT</td>\n",
       "      <td>022255Z AUTO 00000KT 10SM VCTS CLR 26/18 A2987...</td>\n",
       "      <td>220466122</td>\n",
       "      <td>{'timezone': 'America/Chicago', 'string_local'...</td>\n",
       "      <td>{'Fahrenheit': 79, 'Celsius': 26}</td>\n",
       "      <td>{'Fahrenheit': 64, 'Celsius': 18}</td>\n",
       "      <td>{'Type': None, 'Fahrenheit': 79, 'Celsius': 26}</td>\n",
       "      <td>{'Fahrenheit': None, 'Celsius': None}</td>\n",
       "    </tr>\n",
       "    <tr>\n",
       "      <th>7</th>\n",
       "      <td>1525323300</td>\n",
       "      <td>5/2/2018 23:55</td>\n",
       "      <td>KJOT</td>\n",
       "      <td>030455Z AUTO 28014G22KT 10SM SCT030 SCT038 BKN...</td>\n",
       "      <td>220515926</td>\n",
       "      <td>{'timezone': 'America/Chicago', 'string_local'...</td>\n",
       "      <td>{'Fahrenheit': 75, 'Celsius': 24}</td>\n",
       "      <td>{'Fahrenheit': 64, 'Celsius': 18}</td>\n",
       "      <td>{'Type': None, 'Fahrenheit': 75, 'Celsius': 24}</td>\n",
       "      <td>{'Fahrenheit': None, 'Celsius': None}</td>\n",
       "    </tr>\n",
       "    <tr>\n",
       "      <th>8</th>\n",
       "      <td>1525344900</td>\n",
       "      <td>5/3/2018 5:55</td>\n",
       "      <td>KJOT</td>\n",
       "      <td>031055Z AUTO 26004KT 7SM SCT006 SCT060 OVC110 ...</td>\n",
       "      <td>220567928</td>\n",
       "      <td>{'timezone': 'America/Chicago', 'string_local'...</td>\n",
       "      <td>{'Fahrenheit': 64, 'Celsius': 18}</td>\n",
       "      <td>{'Fahrenheit': 64, 'Celsius': 18}</td>\n",
       "      <td>{'Type': None, 'Fahrenheit': 64, 'Celsius': 18}</td>\n",
       "      <td>{'Fahrenheit': None, 'Celsius': None}</td>\n",
       "    </tr>\n",
       "    <tr>\n",
       "      <th>9</th>\n",
       "      <td>1525366500</td>\n",
       "      <td>5/3/2018 11:55</td>\n",
       "      <td>KJOT</td>\n",
       "      <td>031655Z AUTO 22007KT 10SM OVC020 23/19 A2994 R...</td>\n",
       "      <td>220621292</td>\n",
       "      <td>{'timezone': 'America/Chicago', 'string_local'...</td>\n",
       "      <td>{'Fahrenheit': 73, 'Celsius': 23}</td>\n",
       "      <td>{'Fahrenheit': 66, 'Celsius': 19}</td>\n",
       "      <td>{'Type': None, 'Fahrenheit': 73, 'Celsius': 23}</td>\n",
       "      <td>{'Fahrenheit': None, 'Celsius': None}</td>\n",
       "    </tr>\n",
       "  </tbody>\n",
       "</table>\n",
       "</div>"
      ],
      "text/plain": [
       "   ObservedAt ObservedAt_DateTime Station  \\\n",
       "0  1525172100       5/1/2018 5:55    KJOT   \n",
       "1  1525193700      5/1/2018 11:55    KJOT   \n",
       "2  1525215300      5/1/2018 17:55    KJOT   \n",
       "3  1525236900      5/1/2018 23:55    KJOT   \n",
       "4  1525258500       5/2/2018 5:55    KJOT   \n",
       "5  1525280100      5/2/2018 11:55    KJOT   \n",
       "6  1525301700      5/2/2018 17:55    KJOT   \n",
       "7  1525323300      5/2/2018 23:55    KJOT   \n",
       "8  1525344900       5/3/2018 5:55    KJOT   \n",
       "9  1525366500      5/3/2018 11:55    KJOT   \n",
       "\n",
       "                                              Record         ID  \\\n",
       "0  011055Z AUTO 19004KT 10SM CLR 13/03 A3000 RMK ...  220160752   \n",
       "1  011655Z AUTO 23013G23KT 10SM SCT065 27/11 A299...  220215015   \n",
       "2  012255Z AUTO 19012G20KT 10SM CLR 28/09 A2991 R...  220262557   \n",
       "3  020455Z AUTO 20013G18KT 10SM CLR 23/11 A2994 R...  220311850   \n",
       "4  021055Z AUTO 21008KT 10SM CLR 21/11 A2991 RMK ...  220363232   \n",
       "5  021655Z AUTO 24012G21KT 10SM CLR 28/12 A2994 R...  220415815   \n",
       "6  022255Z AUTO 00000KT 10SM VCTS CLR 26/18 A2987...  220466122   \n",
       "7  030455Z AUTO 28014G22KT 10SM SCT030 SCT038 BKN...  220515926   \n",
       "8  031055Z AUTO 26004KT 7SM SCT006 SCT060 OVC110 ...  220567928   \n",
       "9  031655Z AUTO 22007KT 10SM OVC020 23/19 A2994 R...  220621292   \n",
       "\n",
       "                                            datetime  \\\n",
       "0  {'timezone': 'America/Chicago', 'string_local'...   \n",
       "1  {'timezone': 'America/Chicago', 'string_local'...   \n",
       "2  {'timezone': 'America/Chicago', 'string_local'...   \n",
       "3  {'timezone': 'America/Chicago', 'string_local'...   \n",
       "4  {'timezone': 'America/Chicago', 'string_local'...   \n",
       "5  {'timezone': 'America/Chicago', 'string_local'...   \n",
       "6  {'timezone': 'America/Chicago', 'string_local'...   \n",
       "7  {'timezone': 'America/Chicago', 'string_local'...   \n",
       "8  {'timezone': 'America/Chicago', 'string_local'...   \n",
       "9  {'timezone': 'America/Chicago', 'string_local'...   \n",
       "\n",
       "                         Temperature                           Dewpoint  \\\n",
       "0  {'Fahrenheit': 55, 'Celsius': 13}   {'Fahrenheit': 37, 'Celsius': 3}   \n",
       "1  {'Fahrenheit': 81, 'Celsius': 27}  {'Fahrenheit': 52, 'Celsius': 11}   \n",
       "2  {'Fahrenheit': 82, 'Celsius': 28}   {'Fahrenheit': 48, 'Celsius': 9}   \n",
       "3  {'Fahrenheit': 73, 'Celsius': 23}  {'Fahrenheit': 52, 'Celsius': 11}   \n",
       "4  {'Fahrenheit': 70, 'Celsius': 21}  {'Fahrenheit': 52, 'Celsius': 11}   \n",
       "5  {'Fahrenheit': 82, 'Celsius': 28}  {'Fahrenheit': 54, 'Celsius': 12}   \n",
       "6  {'Fahrenheit': 79, 'Celsius': 26}  {'Fahrenheit': 64, 'Celsius': 18}   \n",
       "7  {'Fahrenheit': 75, 'Celsius': 24}  {'Fahrenheit': 64, 'Celsius': 18}   \n",
       "8  {'Fahrenheit': 64, 'Celsius': 18}  {'Fahrenheit': 64, 'Celsius': 18}   \n",
       "9  {'Fahrenheit': 73, 'Celsius': 23}  {'Fahrenheit': 66, 'Celsius': 19}   \n",
       "\n",
       "                                         FeelsLike  \\\n",
       "0  {'Type': None, 'Fahrenheit': 55, 'Celsius': 13}   \n",
       "1  {'Type': None, 'Fahrenheit': 81, 'Celsius': 27}   \n",
       "2  {'Type': None, 'Fahrenheit': 82, 'Celsius': 28}   \n",
       "3  {'Type': None, 'Fahrenheit': 73, 'Celsius': 23}   \n",
       "4  {'Type': None, 'Fahrenheit': 70, 'Celsius': 21}   \n",
       "5  {'Type': None, 'Fahrenheit': 82, 'Celsius': 28}   \n",
       "6  {'Type': None, 'Fahrenheit': 79, 'Celsius': 26}   \n",
       "7  {'Type': None, 'Fahrenheit': 75, 'Celsius': 24}   \n",
       "8  {'Type': None, 'Fahrenheit': 64, 'Celsius': 18}   \n",
       "9  {'Type': None, 'Fahrenheit': 73, 'Celsius': 23}   \n",
       "\n",
       "                               HeatIndex  \n",
       "0  {'Fahrenheit': None, 'Celsius': None}  \n",
       "1  {'Fahrenheit': None, 'Celsius': None}  \n",
       "2  {'Fahrenheit': None, 'Celsius': None}  \n",
       "3  {'Fahrenheit': None, 'Celsius': None}  \n",
       "4  {'Fahrenheit': None, 'Celsius': None}  \n",
       "5  {'Fahrenheit': None, 'Celsius': None}  \n",
       "6  {'Fahrenheit': None, 'Celsius': None}  \n",
       "7  {'Fahrenheit': None, 'Celsius': None}  \n",
       "8  {'Fahrenheit': None, 'Celsius': None}  \n",
       "9  {'Fahrenheit': None, 'Celsius': None}  "
      ]
     },
     "execution_count": 4,
     "metadata": {},
     "output_type": "execute_result"
    }
   ],
   "source": [
    "weather_data.iloc[0:10, 0:10]"
   ]
  },
  {
   "cell_type": "code",
   "execution_count": 5,
   "id": "409fca26",
   "metadata": {},
   "outputs": [
    {
     "data": {
      "text/html": [
       "<div>\n",
       "<style scoped>\n",
       "    .dataframe tbody tr th:only-of-type {\n",
       "        vertical-align: middle;\n",
       "    }\n",
       "\n",
       "    .dataframe tbody tr th {\n",
       "        vertical-align: top;\n",
       "    }\n",
       "\n",
       "    .dataframe thead th {\n",
       "        text-align: right;\n",
       "    }\n",
       "</style>\n",
       "<table border=\"1\" class=\"dataframe\">\n",
       "  <thead>\n",
       "    <tr style=\"text-align: right;\">\n",
       "      <th></th>\n",
       "      <th>Windchill</th>\n",
       "      <th>Pressure</th>\n",
       "      <th>Precipitation</th>\n",
       "      <th>Wind</th>\n",
       "      <th>RelativeHumidity</th>\n",
       "      <th>CurrentConditions</th>\n",
       "      <th>CurrentConditionsAbbreviation</th>\n",
       "      <th>ConditionType</th>\n",
       "      <th>CloudCondition</th>\n",
       "      <th>CloudReport</th>\n",
       "    </tr>\n",
       "  </thead>\n",
       "  <tbody>\n",
       "    <tr>\n",
       "      <th>0</th>\n",
       "      <td>{'Fahrenheit': None, 'Celsius': None}</td>\n",
       "      <td>{'Millibar': 1015.92, 'InchesOfMercury': 30}</td>\n",
       "      <td>{'Hour': {'In': 0, 'Cm': 0}, 'Snow': {'In': 0,...</td>\n",
       "      <td>{'Direction': {'Degree': 190, 'Direction': 'So...</td>\n",
       "      <td>0.509</td>\n",
       "      <td>Clear Skies</td>\n",
       "      <td>NaN</td>\n",
       "      <td>Clear</td>\n",
       "      <td>Clear Skies</td>\n",
       "      <td>Clear Skies</td>\n",
       "    </tr>\n",
       "    <tr>\n",
       "      <th>1</th>\n",
       "      <td>{'Fahrenheit': None, 'Celsius': None}</td>\n",
       "      <td>{'Millibar': 1015.58, 'InchesOfMercury': 29.99}</td>\n",
       "      <td>{'Hour': {'In': 0, 'Cm': 0}, 'Snow': {'In': 0,...</td>\n",
       "      <td>{'Direction': {'Degree': 230, 'Direction': 'So...</td>\n",
       "      <td>0.368</td>\n",
       "      <td>Scattered</td>\n",
       "      <td>NaN</td>\n",
       "      <td>Cloudy</td>\n",
       "      <td>Scattered</td>\n",
       "      <td>Scattered</td>\n",
       "    </tr>\n",
       "    <tr>\n",
       "      <th>2</th>\n",
       "      <td>{'Fahrenheit': None, 'Celsius': None}</td>\n",
       "      <td>{'Millibar': 1012.87, 'InchesOfMercury': 29.91}</td>\n",
       "      <td>{'Hour': {'In': 0, 'Cm': 0}, 'Snow': {'In': 0,...</td>\n",
       "      <td>{'Direction': {'Degree': 190, 'Direction': 'So...</td>\n",
       "      <td>0.303</td>\n",
       "      <td>Clear Skies</td>\n",
       "      <td>NaN</td>\n",
       "      <td>Clear</td>\n",
       "      <td>Clear Skies</td>\n",
       "      <td>Clear Skies</td>\n",
       "    </tr>\n",
       "    <tr>\n",
       "      <th>3</th>\n",
       "      <td>{'Fahrenheit': None, 'Celsius': None}</td>\n",
       "      <td>{'Millibar': 1013.89, 'InchesOfMercury': 29.94}</td>\n",
       "      <td>{'Hour': {'In': 0, 'Cm': 0}, 'Snow': {'In': 0,...</td>\n",
       "      <td>{'Direction': {'Degree': 200, 'Direction': 'So...</td>\n",
       "      <td>0.468</td>\n",
       "      <td>Clear Skies</td>\n",
       "      <td>NaN</td>\n",
       "      <td>Clear</td>\n",
       "      <td>Clear Skies</td>\n",
       "      <td>Clear Skies</td>\n",
       "    </tr>\n",
       "    <tr>\n",
       "      <th>4</th>\n",
       "      <td>{'Fahrenheit': None, 'Celsius': None}</td>\n",
       "      <td>{'Millibar': 1012.87, 'InchesOfMercury': 29.91}</td>\n",
       "      <td>{'Hour': {'In': 0, 'Cm': 0}, 'Snow': {'In': 0,...</td>\n",
       "      <td>{'Direction': {'Degree': 210, 'Direction': 'So...</td>\n",
       "      <td>0.530</td>\n",
       "      <td>Clear Skies</td>\n",
       "      <td>NaN</td>\n",
       "      <td>Clear</td>\n",
       "      <td>Clear Skies</td>\n",
       "      <td>Clear Skies</td>\n",
       "    </tr>\n",
       "    <tr>\n",
       "      <th>5</th>\n",
       "      <td>{'Fahrenheit': None, 'Celsius': None}</td>\n",
       "      <td>{'Millibar': 1013.89, 'InchesOfMercury': 29.94}</td>\n",
       "      <td>{'Hour': {'In': 0, 'Cm': 0}, 'Snow': {'In': 0,...</td>\n",
       "      <td>{'Direction': {'Degree': 240, 'Direction': 'We...</td>\n",
       "      <td>0.371</td>\n",
       "      <td>Clear Skies</td>\n",
       "      <td>NaN</td>\n",
       "      <td>Clear</td>\n",
       "      <td>Clear Skies</td>\n",
       "      <td>Clear Skies</td>\n",
       "    </tr>\n",
       "    <tr>\n",
       "      <th>6</th>\n",
       "      <td>{'Fahrenheit': None, 'Celsius': None}</td>\n",
       "      <td>{'Millibar': 1011.52, 'InchesOfMercury': 29.87}</td>\n",
       "      <td>{'Hour': {'In': 0, 'Cm': 0}, 'Snow': {'In': 0,...</td>\n",
       "      <td>{'Direction': {'Degree': 0, 'Direction': 'Nort...</td>\n",
       "      <td>0.614</td>\n",
       "      <td>In The Vicinity, Thunderstorms</td>\n",
       "      <td>VCTS</td>\n",
       "      <td>Clear</td>\n",
       "      <td>In The Vicinity, Thunderstorms / Clear Skies</td>\n",
       "      <td>Clear Skies</td>\n",
       "    </tr>\n",
       "    <tr>\n",
       "      <th>7</th>\n",
       "      <td>{'Fahrenheit': None, 'Celsius': None}</td>\n",
       "      <td>{'Millibar': 1013.89, 'InchesOfMercury': 29.94}</td>\n",
       "      <td>{'Hour': {'In': 0, 'Cm': 0}, 'Snow': {'In': 0,...</td>\n",
       "      <td>{'Direction': {'Degree': 280, 'Direction': 'We...</td>\n",
       "      <td>0.692</td>\n",
       "      <td>Scattered</td>\n",
       "      <td>NaN</td>\n",
       "      <td>Cloudy</td>\n",
       "      <td>Scattered / Broken Sky</td>\n",
       "      <td>Scattered / Broken Sky</td>\n",
       "    </tr>\n",
       "    <tr>\n",
       "      <th>8</th>\n",
       "      <td>{'Fahrenheit': None, 'Celsius': None}</td>\n",
       "      <td>{'Millibar': 1012.19, 'InchesOfMercury': 29.89}</td>\n",
       "      <td>{'Hour': {'In': 0.24, 'Cm': 0.61}, 'Snow': {'I...</td>\n",
       "      <td>{'Direction': {'Degree': 260, 'Direction': 'We...</td>\n",
       "      <td>1.000</td>\n",
       "      <td>Scattered</td>\n",
       "      <td>NaN</td>\n",
       "      <td>Cloudy</td>\n",
       "      <td>Scattered / Overcast Sky</td>\n",
       "      <td>Scattered / Overcast Sky</td>\n",
       "    </tr>\n",
       "    <tr>\n",
       "      <th>9</th>\n",
       "      <td>{'Fahrenheit': None, 'Celsius': None}</td>\n",
       "      <td>{'Millibar': 1013.89, 'InchesOfMercury': 29.94}</td>\n",
       "      <td>{'Hour': {'In': 0, 'Cm': 0}, 'Snow': {'In': 0,...</td>\n",
       "      <td>{'Direction': {'Degree': 220, 'Direction': 'So...</td>\n",
       "      <td>0.783</td>\n",
       "      <td>Overcast Sky</td>\n",
       "      <td>NaN</td>\n",
       "      <td>Cloudy</td>\n",
       "      <td>Overcast Sky</td>\n",
       "      <td>Overcast Sky</td>\n",
       "    </tr>\n",
       "  </tbody>\n",
       "</table>\n",
       "</div>"
      ],
      "text/plain": [
       "                               Windchill  \\\n",
       "0  {'Fahrenheit': None, 'Celsius': None}   \n",
       "1  {'Fahrenheit': None, 'Celsius': None}   \n",
       "2  {'Fahrenheit': None, 'Celsius': None}   \n",
       "3  {'Fahrenheit': None, 'Celsius': None}   \n",
       "4  {'Fahrenheit': None, 'Celsius': None}   \n",
       "5  {'Fahrenheit': None, 'Celsius': None}   \n",
       "6  {'Fahrenheit': None, 'Celsius': None}   \n",
       "7  {'Fahrenheit': None, 'Celsius': None}   \n",
       "8  {'Fahrenheit': None, 'Celsius': None}   \n",
       "9  {'Fahrenheit': None, 'Celsius': None}   \n",
       "\n",
       "                                          Pressure  \\\n",
       "0     {'Millibar': 1015.92, 'InchesOfMercury': 30}   \n",
       "1  {'Millibar': 1015.58, 'InchesOfMercury': 29.99}   \n",
       "2  {'Millibar': 1012.87, 'InchesOfMercury': 29.91}   \n",
       "3  {'Millibar': 1013.89, 'InchesOfMercury': 29.94}   \n",
       "4  {'Millibar': 1012.87, 'InchesOfMercury': 29.91}   \n",
       "5  {'Millibar': 1013.89, 'InchesOfMercury': 29.94}   \n",
       "6  {'Millibar': 1011.52, 'InchesOfMercury': 29.87}   \n",
       "7  {'Millibar': 1013.89, 'InchesOfMercury': 29.94}   \n",
       "8  {'Millibar': 1012.19, 'InchesOfMercury': 29.89}   \n",
       "9  {'Millibar': 1013.89, 'InchesOfMercury': 29.94}   \n",
       "\n",
       "                                       Precipitation  \\\n",
       "0  {'Hour': {'In': 0, 'Cm': 0}, 'Snow': {'In': 0,...   \n",
       "1  {'Hour': {'In': 0, 'Cm': 0}, 'Snow': {'In': 0,...   \n",
       "2  {'Hour': {'In': 0, 'Cm': 0}, 'Snow': {'In': 0,...   \n",
       "3  {'Hour': {'In': 0, 'Cm': 0}, 'Snow': {'In': 0,...   \n",
       "4  {'Hour': {'In': 0, 'Cm': 0}, 'Snow': {'In': 0,...   \n",
       "5  {'Hour': {'In': 0, 'Cm': 0}, 'Snow': {'In': 0,...   \n",
       "6  {'Hour': {'In': 0, 'Cm': 0}, 'Snow': {'In': 0,...   \n",
       "7  {'Hour': {'In': 0, 'Cm': 0}, 'Snow': {'In': 0,...   \n",
       "8  {'Hour': {'In': 0.24, 'Cm': 0.61}, 'Snow': {'I...   \n",
       "9  {'Hour': {'In': 0, 'Cm': 0}, 'Snow': {'In': 0,...   \n",
       "\n",
       "                                                Wind  RelativeHumidity  \\\n",
       "0  {'Direction': {'Degree': 190, 'Direction': 'So...             0.509   \n",
       "1  {'Direction': {'Degree': 230, 'Direction': 'So...             0.368   \n",
       "2  {'Direction': {'Degree': 190, 'Direction': 'So...             0.303   \n",
       "3  {'Direction': {'Degree': 200, 'Direction': 'So...             0.468   \n",
       "4  {'Direction': {'Degree': 210, 'Direction': 'So...             0.530   \n",
       "5  {'Direction': {'Degree': 240, 'Direction': 'We...             0.371   \n",
       "6  {'Direction': {'Degree': 0, 'Direction': 'Nort...             0.614   \n",
       "7  {'Direction': {'Degree': 280, 'Direction': 'We...             0.692   \n",
       "8  {'Direction': {'Degree': 260, 'Direction': 'We...             1.000   \n",
       "9  {'Direction': {'Degree': 220, 'Direction': 'So...             0.783   \n",
       "\n",
       "                CurrentConditions CurrentConditionsAbbreviation ConditionType  \\\n",
       "0                     Clear Skies                           NaN         Clear   \n",
       "1                       Scattered                           NaN        Cloudy   \n",
       "2                     Clear Skies                           NaN         Clear   \n",
       "3                     Clear Skies                           NaN         Clear   \n",
       "4                     Clear Skies                           NaN         Clear   \n",
       "5                     Clear Skies                           NaN         Clear   \n",
       "6  In The Vicinity, Thunderstorms                          VCTS         Clear   \n",
       "7                       Scattered                           NaN        Cloudy   \n",
       "8                       Scattered                           NaN        Cloudy   \n",
       "9                    Overcast Sky                           NaN        Cloudy   \n",
       "\n",
       "                                 CloudCondition               CloudReport  \n",
       "0                                   Clear Skies               Clear Skies  \n",
       "1                                     Scattered                 Scattered  \n",
       "2                                   Clear Skies               Clear Skies  \n",
       "3                                   Clear Skies               Clear Skies  \n",
       "4                                   Clear Skies               Clear Skies  \n",
       "5                                   Clear Skies               Clear Skies  \n",
       "6  In The Vicinity, Thunderstorms / Clear Skies               Clear Skies  \n",
       "7                        Scattered / Broken Sky    Scattered / Broken Sky  \n",
       "8                      Scattered / Overcast Sky  Scattered / Overcast Sky  \n",
       "9                                  Overcast Sky              Overcast Sky  "
      ]
     },
     "execution_count": 5,
     "metadata": {},
     "output_type": "execute_result"
    }
   ],
   "source": [
    "weather_data.iloc[0:10, 10:20]"
   ]
  },
  {
   "cell_type": "code",
   "execution_count": 6,
   "id": "6d129960",
   "metadata": {
    "scrolled": true
   },
   "outputs": [
    {
     "data": {
      "text/html": [
       "<div>\n",
       "<style scoped>\n",
       "    .dataframe tbody tr th:only-of-type {\n",
       "        vertical-align: middle;\n",
       "    }\n",
       "\n",
       "    .dataframe tbody tr th {\n",
       "        vertical-align: top;\n",
       "    }\n",
       "\n",
       "    .dataframe thead th {\n",
       "        text-align: right;\n",
       "    }\n",
       "</style>\n",
       "<table border=\"1\" class=\"dataframe\">\n",
       "  <thead>\n",
       "    <tr style=\"text-align: right;\">\n",
       "      <th></th>\n",
       "      <th>Visibility</th>\n",
       "      <th>Clouds</th>\n",
       "      <th>Lightning</th>\n",
       "      <th>SunInfo</th>\n",
       "      <th>MoonInfo</th>\n",
       "      <th>raw</th>\n",
       "      <th>daily_total_precipitation</th>\n",
       "    </tr>\n",
       "  </thead>\n",
       "  <tbody>\n",
       "    <tr>\n",
       "      <th>0</th>\n",
       "      <td>[{'Miles': 10, 'Kilometers': 16.1, 'Direction'...</td>\n",
       "      <td>[{'Condition': 'Clear Skies', 'Coverage': '0',...</td>\n",
       "      <td>[]</td>\n",
       "      <td>{'IsSunUp': True, 'Sunrise': {'timezone': 'Ame...</td>\n",
       "      <td>{'Phase': 0.5463872867481452, 'PhaseName': 'Fu...</td>\n",
       "      <td>AUTO 19004KT 10SM CLR 13/03 A3000 RMK AO2 T013...</td>\n",
       "      <td>NaN</td>\n",
       "    </tr>\n",
       "    <tr>\n",
       "      <th>1</th>\n",
       "      <td>[{'Miles': 10, 'Kilometers': 16.1, 'Direction'...</td>\n",
       "      <td>[{'Condition': 'Scattered', 'Coverage': '3/8 -...</td>\n",
       "      <td>[]</td>\n",
       "      <td>{'IsSunUp': True, 'Sunrise': {'timezone': 'Ame...</td>\n",
       "      <td>{'Phase': 0.5544029020570569, 'PhaseName': 'Fu...</td>\n",
       "      <td>AUTO 23013G23KT 10SM SCT065 27/11 A2999 RMK AO...</td>\n",
       "      <td>NaN</td>\n",
       "    </tr>\n",
       "    <tr>\n",
       "      <th>2</th>\n",
       "      <td>[{'Miles': 10, 'Kilometers': 16.1, 'Direction'...</td>\n",
       "      <td>[{'Condition': 'Clear Skies', 'Coverage': '0',...</td>\n",
       "      <td>[]</td>\n",
       "      <td>{'IsSunUp': True, 'Sunrise': {'timezone': 'Ame...</td>\n",
       "      <td>{'Phase': 0.5623766330324756, 'PhaseName': 'Fu...</td>\n",
       "      <td>AUTO 19012G20KT 10SM CLR 28/09 A2991 RMK AO2 T...</td>\n",
       "      <td>NaN</td>\n",
       "    </tr>\n",
       "    <tr>\n",
       "      <th>3</th>\n",
       "      <td>[{'Miles': 10, 'Kilometers': 16.1, 'Direction'...</td>\n",
       "      <td>[{'Condition': 'Clear Skies', 'Coverage': '0',...</td>\n",
       "      <td>[]</td>\n",
       "      <td>{'IsSunUp': False, 'Sunrise': {'timezone': 'Am...</td>\n",
       "      <td>{'Phase': 0.5703094498618421, 'PhaseName': 'Wa...</td>\n",
       "      <td>AUTO 20013G18KT 10SM CLR 23/11 A2994 RMK AO2 T...</td>\n",
       "      <td>NaN</td>\n",
       "    </tr>\n",
       "    <tr>\n",
       "      <th>4</th>\n",
       "      <td>[{'Miles': 10, 'Kilometers': 16.1, 'Direction'...</td>\n",
       "      <td>[{'Condition': 'Clear Skies', 'Coverage': '0',...</td>\n",
       "      <td>[]</td>\n",
       "      <td>{'IsSunUp': True, 'Sunrise': {'timezone': 'Ame...</td>\n",
       "      <td>{'Phase': 0.5782024918339819, 'PhaseName': 'Wa...</td>\n",
       "      <td>AUTO 21008KT 10SM CLR 21/11 A2991 RMK AO2 T020...</td>\n",
       "      <td>NaN</td>\n",
       "    </tr>\n",
       "    <tr>\n",
       "      <th>5</th>\n",
       "      <td>[{'Miles': 10, 'Kilometers': 16.1, 'Direction'...</td>\n",
       "      <td>[{'Condition': 'Clear Skies', 'Coverage': '0',...</td>\n",
       "      <td>[]</td>\n",
       "      <td>{'IsSunUp': True, 'Sunrise': {'timezone': 'Ame...</td>\n",
       "      <td>{'Phase': 0.5860570630481361, 'PhaseName': 'Wa...</td>\n",
       "      <td>AUTO 24012G21KT 10SM CLR 28/12 A2994 RMK AO2 T...</td>\n",
       "      <td>NaN</td>\n",
       "    </tr>\n",
       "    <tr>\n",
       "      <th>6</th>\n",
       "      <td>[{'Miles': 10, 'Kilometers': 16.1, 'Direction'...</td>\n",
       "      <td>[{'Condition': 'Clear Skies', 'Coverage': '0',...</td>\n",
       "      <td>[]</td>\n",
       "      <td>{'IsSunUp': True, 'Sunrise': {'timezone': 'Ame...</td>\n",
       "      <td>{'Phase': 0.5938746279225205, 'PhaseName': 'Wa...</td>\n",
       "      <td>AUTO 00000KT 10SM VCTS CLR 26/18 A2987 RMK AO2...</td>\n",
       "      <td>NaN</td>\n",
       "    </tr>\n",
       "    <tr>\n",
       "      <th>7</th>\n",
       "      <td>[{'Miles': 10, 'Kilometers': 16.1, 'Direction'...</td>\n",
       "      <td>[{'Condition': 'Scattered', 'Coverage': '3/8 -...</td>\n",
       "      <td>[]</td>\n",
       "      <td>{'IsSunUp': False, 'Sunrise': {'timezone': 'Am...</td>\n",
       "      <td>{'Phase': 0.6016568066351913, 'PhaseName': 'Wa...</td>\n",
       "      <td>AUTO 28014G22KT 10SM SCT030 SCT038 BKN070 24/1...</td>\n",
       "      <td>NaN</td>\n",
       "    </tr>\n",
       "    <tr>\n",
       "      <th>8</th>\n",
       "      <td>[{'Miles': 7, 'Kilometers': 11.3, 'Direction':...</td>\n",
       "      <td>[{'Condition': 'Scattered', 'Coverage': '3/8 -...</td>\n",
       "      <td>[]</td>\n",
       "      <td>{'IsSunUp': True, 'Sunrise': {'timezone': 'Ame...</td>\n",
       "      <td>{'Phase': 0.6094053706053484, 'PhaseName': 'Wa...</td>\n",
       "      <td>AUTO 26004KT 7SM SCT006 SCT060 OVC110 18/18 A2...</td>\n",
       "      <td>NaN</td>\n",
       "    </tr>\n",
       "    <tr>\n",
       "      <th>9</th>\n",
       "      <td>[{'Miles': 10, 'Kilometers': 16.1, 'Direction'...</td>\n",
       "      <td>[{'Condition': 'Overcast Sky', 'Coverage': '8/...</td>\n",
       "      <td>[]</td>\n",
       "      <td>{'IsSunUp': True, 'Sunrise': {'timezone': 'Ame...</td>\n",
       "      <td>{'Phase': 0.6171222380930323, 'PhaseName': 'Wa...</td>\n",
       "      <td>AUTO 22007KT 10SM OVC020 23/19 A2994 RMK AO2 T...</td>\n",
       "      <td>NaN</td>\n",
       "    </tr>\n",
       "  </tbody>\n",
       "</table>\n",
       "</div>"
      ],
      "text/plain": [
       "                                          Visibility  \\\n",
       "0  [{'Miles': 10, 'Kilometers': 16.1, 'Direction'...   \n",
       "1  [{'Miles': 10, 'Kilometers': 16.1, 'Direction'...   \n",
       "2  [{'Miles': 10, 'Kilometers': 16.1, 'Direction'...   \n",
       "3  [{'Miles': 10, 'Kilometers': 16.1, 'Direction'...   \n",
       "4  [{'Miles': 10, 'Kilometers': 16.1, 'Direction'...   \n",
       "5  [{'Miles': 10, 'Kilometers': 16.1, 'Direction'...   \n",
       "6  [{'Miles': 10, 'Kilometers': 16.1, 'Direction'...   \n",
       "7  [{'Miles': 10, 'Kilometers': 16.1, 'Direction'...   \n",
       "8  [{'Miles': 7, 'Kilometers': 11.3, 'Direction':...   \n",
       "9  [{'Miles': 10, 'Kilometers': 16.1, 'Direction'...   \n",
       "\n",
       "                                              Clouds Lightning  \\\n",
       "0  [{'Condition': 'Clear Skies', 'Coverage': '0',...        []   \n",
       "1  [{'Condition': 'Scattered', 'Coverage': '3/8 -...        []   \n",
       "2  [{'Condition': 'Clear Skies', 'Coverage': '0',...        []   \n",
       "3  [{'Condition': 'Clear Skies', 'Coverage': '0',...        []   \n",
       "4  [{'Condition': 'Clear Skies', 'Coverage': '0',...        []   \n",
       "5  [{'Condition': 'Clear Skies', 'Coverage': '0',...        []   \n",
       "6  [{'Condition': 'Clear Skies', 'Coverage': '0',...        []   \n",
       "7  [{'Condition': 'Scattered', 'Coverage': '3/8 -...        []   \n",
       "8  [{'Condition': 'Scattered', 'Coverage': '3/8 -...        []   \n",
       "9  [{'Condition': 'Overcast Sky', 'Coverage': '8/...        []   \n",
       "\n",
       "                                             SunInfo  \\\n",
       "0  {'IsSunUp': True, 'Sunrise': {'timezone': 'Ame...   \n",
       "1  {'IsSunUp': True, 'Sunrise': {'timezone': 'Ame...   \n",
       "2  {'IsSunUp': True, 'Sunrise': {'timezone': 'Ame...   \n",
       "3  {'IsSunUp': False, 'Sunrise': {'timezone': 'Am...   \n",
       "4  {'IsSunUp': True, 'Sunrise': {'timezone': 'Ame...   \n",
       "5  {'IsSunUp': True, 'Sunrise': {'timezone': 'Ame...   \n",
       "6  {'IsSunUp': True, 'Sunrise': {'timezone': 'Ame...   \n",
       "7  {'IsSunUp': False, 'Sunrise': {'timezone': 'Am...   \n",
       "8  {'IsSunUp': True, 'Sunrise': {'timezone': 'Ame...   \n",
       "9  {'IsSunUp': True, 'Sunrise': {'timezone': 'Ame...   \n",
       "\n",
       "                                            MoonInfo  \\\n",
       "0  {'Phase': 0.5463872867481452, 'PhaseName': 'Fu...   \n",
       "1  {'Phase': 0.5544029020570569, 'PhaseName': 'Fu...   \n",
       "2  {'Phase': 0.5623766330324756, 'PhaseName': 'Fu...   \n",
       "3  {'Phase': 0.5703094498618421, 'PhaseName': 'Wa...   \n",
       "4  {'Phase': 0.5782024918339819, 'PhaseName': 'Wa...   \n",
       "5  {'Phase': 0.5860570630481361, 'PhaseName': 'Wa...   \n",
       "6  {'Phase': 0.5938746279225205, 'PhaseName': 'Wa...   \n",
       "7  {'Phase': 0.6016568066351913, 'PhaseName': 'Wa...   \n",
       "8  {'Phase': 0.6094053706053484, 'PhaseName': 'Wa...   \n",
       "9  {'Phase': 0.6171222380930323, 'PhaseName': 'Wa...   \n",
       "\n",
       "                                                 raw  \\\n",
       "0  AUTO 19004KT 10SM CLR 13/03 A3000 RMK AO2 T013...   \n",
       "1  AUTO 23013G23KT 10SM SCT065 27/11 A2999 RMK AO...   \n",
       "2  AUTO 19012G20KT 10SM CLR 28/09 A2991 RMK AO2 T...   \n",
       "3  AUTO 20013G18KT 10SM CLR 23/11 A2994 RMK AO2 T...   \n",
       "4  AUTO 21008KT 10SM CLR 21/11 A2991 RMK AO2 T020...   \n",
       "5  AUTO 24012G21KT 10SM CLR 28/12 A2994 RMK AO2 T...   \n",
       "6  AUTO 00000KT 10SM VCTS CLR 26/18 A2987 RMK AO2...   \n",
       "7  AUTO 28014G22KT 10SM SCT030 SCT038 BKN070 24/1...   \n",
       "8  AUTO 26004KT 7SM SCT006 SCT060 OVC110 18/18 A2...   \n",
       "9  AUTO 22007KT 10SM OVC020 23/19 A2994 RMK AO2 T...   \n",
       "\n",
       "   daily_total_precipitation  \n",
       "0                        NaN  \n",
       "1                        NaN  \n",
       "2                        NaN  \n",
       "3                        NaN  \n",
       "4                        NaN  \n",
       "5                        NaN  \n",
       "6                        NaN  \n",
       "7                        NaN  \n",
       "8                        NaN  \n",
       "9                        NaN  "
      ]
     },
     "execution_count": 6,
     "metadata": {},
     "output_type": "execute_result"
    }
   ],
   "source": [
    "weather_data.iloc[0:10, 20:27]"
   ]
  },
  {
   "cell_type": "code",
   "execution_count": 7,
   "id": "cbb62076",
   "metadata": {},
   "outputs": [],
   "source": [
    "format_data = \"%m/%d/%Y %H:%M\"\n",
    "all_dates = weather_data[\"ObservedAt_DateTime\"]\n",
    "len_date = len(weather_data[\"ObservedAt_DateTime\"])\n",
    "dic_dates = {}\n",
    "for index in range(len_date):\n",
    "    cur_date = datetime.strptime(all_dates[index], format_data)\n",
    "    cur_date = (cur_date.month,cur_date.day)\n",
    "    if cur_date not in dic_dates:\n",
    "        dic_dates[cur_date]=0\n",
    "    else:\n",
    "        dic_dates[cur_date]+=1\n",
    "        \n",
    "dic_dates = dict(sorted(dic_dates.items()))\n",
    "x = list(dic_dates.values())\n",
    "y = [str(s) for s in dic_dates.keys()]\n",
    "#cur_date.timetuple().tm_yday\n",
    "#(cur_date.month,cur_date.day)\n",
    "#For months between Jan and May (inclusive) the maximum number of times it can be counted in\n",
    "#Year 5: 24, Year 4: 20, Year 3: 16, Year 2: 12, Year 1: 8 times.\n",
    "#For months between June and Dec (inclusive) the maximum number of times it can be counted in\n",
    "#Year 4: 20, Year 3: 16, Year 2: 12, Year 1: 8 times."
   ]
  },
  {
   "cell_type": "code",
   "execution_count": 8,
   "id": "f204ec21",
   "metadata": {},
   "outputs": [
    {
     "data": {
      "image/png": "[encoded data removed]",
      "text/plain": [
       "<Figure size 432x288 with 1 Axes>"
      ]
     },
     "metadata": {
      "needs_background": "light"
     },
     "output_type": "display_data"
    },
    {
     "data": {
      "image/png": "[encoded data removed]",
      "text/plain": [
       "<Figure size 432x288 with 1 Axes>"
      ]
     },
     "metadata": {
      "needs_background": "light"
     },
     "output_type": "display_data"
    },
    {
     "data": {
      "image/png": "[encoded data removed]",
      "text/plain": [
       "<Figure size 432x288 with 1 Axes>"
      ]
     },
     "metadata": {
      "needs_background": "light"
     },
     "output_type": "display_data"
    },
    {
     "data": {
      "image/png": "[encoded data removed]",
      "text/plain": [
       "<Figure size 432x288 with 1 Axes>"
      ]
     },
     "metadata": {
      "needs_background": "light"
     },
     "output_type": "display_data"
    },
    {
     "data": {
      "image/png": "[encoded data removed]",
      "text/plain": [
       "<Figure size 432x288 with 1 Axes>"
      ]
     },
     "metadata": {
      "needs_background": "light"
     },
     "output_type": "display_data"
    },
    {
     "data": {
      "image/png": "[encoded data removed]",
      "text/plain": [
       "<Figure size 432x288 with 1 Axes>"
      ]
     },
     "metadata": {
      "needs_background": "light"
     },
     "output_type": "display_data"
    },
    {
     "data": {
      "image/png": "[encoded data removed]",
      "text/plain": [
       "<Figure size 432x288 with 1 Axes>"
      ]
     },
     "metadata": {
      "needs_background": "light"
     },
     "output_type": "display_data"
    },
    {
     "data": {
      "image/png": "[encoded data removed]",
      "text/plain": [
       "<Figure size 432x288 with 1 Axes>"
      ]
     },
     "metadata": {
      "needs_background": "light"
     },
     "output_type": "display_data"
    },
    {
     "data": {
      "image/png": "[encoded data removed]",
      "text/plain": [
       "<Figure size 432x288 with 1 Axes>"
      ]
     },
     "metadata": {
      "needs_background": "light"
     },
     "output_type": "display_data"
    },
    {
     "data": {
      "image/png": "[encoded data removed]",
      "text/plain": [
       "<Figure size 432x288 with 1 Axes>"
      ]
     },
     "metadata": {
      "needs_background": "light"
     },
     "output_type": "display_data"
    },
    {
     "data": {
      "image/png": "[encoded data removed]",
      "text/plain": [
       "<Figure size 432x288 with 1 Axes>"
      ]
     },
     "metadata": {
      "needs_background": "light"
     },
     "output_type": "display_data"
    },
    {
     "data": {
      "image/png": "[encoded data removed]",
      "text/plain": [
       "<Figure size 432x288 with 1 Axes>"
      ]
     },
     "metadata": {
      "needs_background": "light"
     },
     "output_type": "display_data"
    },
    {
     "data": {
      "image/png": "[encoded data removed]",
      "text/plain": [
       "<Figure size 432x288 with 1 Axes>"
      ]
     },
     "metadata": {
      "needs_background": "light"
     },
     "output_type": "display_data"
    },
    {
     "data": {
      "image/png": "[encoded data removed]",
      "text/plain": [
       "<Figure size 432x288 with 1 Axes>"
      ]
     },
     "metadata": {
      "needs_background": "light"
     },
     "output_type": "display_data"
    },
    {
     "data": {
      "image/png": "[encoded data removed]",
      "text/plain": [
       "<Figure size 432x288 with 1 Axes>"
      ]
     },
     "metadata": {
      "needs_background": "light"
     },
     "output_type": "display_data"
    },
    {
     "data": {
      "image/png": "[encoded data removed]",
      "text/plain": [
       "<Figure size 432x288 with 1 Axes>"
      ]
     },
     "metadata": {
      "needs_background": "light"
     },
     "output_type": "display_data"
    },
    {
     "data": {
      "image/png": "[encoded data removed]",
      "text/plain": [
       "<Figure size 432x288 with 1 Axes>"
      ]
     },
     "metadata": {
      "needs_background": "light"
     },
     "output_type": "display_data"
    },
    {
     "data": {
      "image/png": "[encoded data removed]",
      "text/plain": [
       "<Figure size 432x288 with 1 Axes>"
      ]
     },
     "metadata": {
      "needs_background": "light"
     },
     "output_type": "display_data"
    }
   ],
   "source": [
    "start_index = 0\n",
    "end_index = 20\n",
    "while end_index < len(x):\n",
    "    plt.bar(y[start_index:end_index],x[start_index:end_index],width=0.6)\n",
    "    plt.xticks(rotation=\"vertical\")\n",
    "    plt.xlabel(\"Date\")\n",
    "    plt.ylabel(\"No. of Occurences\")\n",
    "    plt.show()\n",
    "    end_index+=20\n",
    "    start_index+=20"
   ]
  },
  {
   "cell_type": "code",
   "execution_count": 9,
   "id": "21e7f9a6",
   "metadata": {
    "scrolled": true
   },
   "outputs": [
    {
     "name": "stdout",
     "output_type": "stream",
     "text": [
      "Size before getting rid of duplicates:  7324\n",
      "Size after getting rid of duplicates:  7217\n"
     ]
    }
   ],
   "source": [
    "repeats = {}\n",
    "print(\"Size before getting rid of duplicates: \",len(weather_data))\n",
    "weather_data.drop_duplicates(subset=[\"ObservedAt_DateTime\"],inplace=True)\n",
    "\n",
    "#Sanity Check\n",
    "for index in weather_data.index:\n",
    "    string_date = weather_data[\"ObservedAt_DateTime\"][index]\n",
    "    if string_date not in repeats:\n",
    "        repeats[string_date]=0\n",
    "    else:\n",
    "        print(\"Duplicate\")\n",
    "        \n",
    "print(\"Size after getting rid of duplicates: \",len(weather_data))"
   ]
  },
  {
   "cell_type": "code",
   "execution_count": 10,
   "id": "9e32af94",
   "metadata": {},
   "outputs": [],
   "source": [
    "all_temps = weather_data[\"Temperature\"]\n",
    "avg_temp = {}\n",
    "count = {}\n",
    "format_data = \"%m/%d/%Y %H:%M\"\n",
    "for index in weather_data.index:\n",
    "    cur_date = datetime.strptime(all_dates[index], format_data)\n",
    "    cur_year = cur_date.year\n",
    "    cur_day = cur_date.timetuple().tm_yday\n",
    "    cur_temp = ast.literal_eval(all_temps[index])\n",
    "    cur_temp = cur_temp[\"Fahrenheit\"]\n",
    "    if cur_year not in avg_temp:\n",
    "        avg_temp[cur_year]={}\n",
    "        count[cur_year]={}\n",
    "    if cur_day not in avg_temp[cur_year]:\n",
    "        avg_temp[cur_year][cur_day]=cur_temp\n",
    "        count[cur_year][cur_day]=1\n",
    "    else:\n",
    "        avg_temp[cur_year][cur_day]+=cur_temp\n",
    "        count[cur_year][cur_day]+=1"
   ]
  },
  {
   "cell_type": "code",
   "execution_count": 11,
   "id": "acdd080a",
   "metadata": {},
   "outputs": [],
   "source": [
    "for key1 in avg_temp.keys():\n",
    "    for key2 in avg_temp[key1].keys():\n",
    "        avg_temp[key1][key2]/=count[key1][key2]"
   ]
  },
  {
   "cell_type": "code",
   "execution_count": 12,
   "id": "849e5656",
   "metadata": {},
   "outputs": [
    {
     "data": {
      "text/plain": [
       "<AxesSubplot:title={'center':'Avg temp between years and days'}>"
      ]
     },
     "execution_count": 12,
     "metadata": {},
     "output_type": "execute_result"
    },
    {
     "data": {
      "image/png": "[encoded data removed]",
      "text/plain": [
       "<Figure size 432x288 with 2 Axes>"
      ]
     },
     "metadata": {
      "needs_background": "light"
     },
     "output_type": "display_data"
    }
   ],
   "source": [
    "dates_and_temps = []\n",
    "avg_all_years = []\n",
    "for year in avg_temp.keys():\n",
    "    tmp = [0 for i in range(367)]\n",
    "    for day in avg_temp[year].keys():\n",
    "        tmp[day]+=avg_temp[year][day]\n",
    "        dates_and_temps.append((day,avg_temp[year][day]))\n",
    "    tmp.pop(0)\n",
    "    avg_all_years.append(tmp)\n",
    "    \n",
    "years_labels = [2018,2019,2020,2021,2022,2023]\n",
    "days_labels = [i for i in range(1,367)]\n",
    "df = pd.DataFrame(avg_all_years,index=years_labels,columns=days_labels)\n",
    "plt.title(\"Avg temp between years and days\")\n",
    "sns.heatmap(df)"
   ]
  },
  {
   "cell_type": "code",
   "execution_count": 13,
   "id": "01fe9cb2",
   "metadata": {},
   "outputs": [],
   "source": [
    "random.shuffle(dates_and_temps)\n",
    "dates = []\n",
    "temps = []\n",
    "for dt in dates_and_temps:\n",
    "    dates.append([dt[0]])\n",
    "    temps.append(dt[1])"
   ]
  },
  {
   "cell_type": "code",
   "execution_count": 14,
   "id": "70d9a7cd",
   "metadata": {},
   "outputs": [],
   "source": [
    "train_size = 0.7\n",
    "test_size = 0.3\n",
    "train_len = int(0.7*len(dates))\n",
    "training_dates = dates[:train_len]\n",
    "training_temps = temps[:train_len]\n",
    "testing_dates = dates[train_len:]\n",
    "testing_temps = temps[train_len:]"
   ]
  },
  {
   "cell_type": "code",
   "execution_count": 15,
   "id": "f2e131a6",
   "metadata": {},
   "outputs": [
    {
     "data": {
      "text/html": [
       "<style>#sk-container-id-1 {color: black;background-color: white;}#sk-container-id-1 pre{padding: 0;}#sk-container-id-1 div.sk-toggleable {background-color: white;}#sk-container-id-1 label.sk-toggleable__label {cursor: pointer;display: block;width: 100%;margin-bottom: 0;padding: 0.3em;box-sizing: border-box;text-align: center;}#sk-container-id-1 label.sk-toggleable__label-arrow:before {content: \"▸\";float: left;margin-right: 0.25em;color: #696969;}#sk-container-id-1 label.sk-toggleable__label-arrow:hover:before {color: black;}#sk-container-id-1 div.sk-estimator:hover label.sk-toggleable__label-arrow:before {color: black;}#sk-container-id-1 div.sk-toggleable__content {max-height: 0;max-width: 0;overflow: hidden;text-align: left;background-color: #f0f8ff;}#sk-container-id-1 div.sk-toggleable__content pre {margin: 0.2em;color: black;border-radius: 0.25em;background-color: #f0f8ff;}#sk-container-id-1 input.sk-toggleable__control:checked~div.sk-toggleable__content {max-height: 200px;max-width: 100%;overflow: auto;}#sk-container-id-1 input.sk-toggleable__control:checked~label.sk-toggleable__label-arrow:before {content: \"▾\";}#sk-container-id-1 div.sk-estimator input.sk-toggleable__control:checked~label.sk-toggleable__label {background-color: #d4ebff;}#sk-container-id-1 div.sk-label input.sk-toggleable__control:checked~label.sk-toggleable__label {background-color: #d4ebff;}#sk-container-id-1 input.sk-hidden--visually {border: 0;clip: rect(1px 1px 1px 1px);clip: rect(1px, 1px, 1px, 1px);height: 1px;margin: -1px;overflow: hidden;padding: 0;position: absolute;width: 1px;}#sk-container-id-1 div.sk-estimator {font-family: monospace;background-color: #f0f8ff;border: 1px dotted black;border-radius: 0.25em;box-sizing: border-box;margin-bottom: 0.5em;}#sk-container-id-1 div.sk-estimator:hover {background-color: #d4ebff;}#sk-container-id-1 div.sk-parallel-item::after {content: \"\";width: 100%;border-bottom: 1px solid gray;flex-grow: 1;}#sk-container-id-1 div.sk-label:hover label.sk-toggleable__label {background-color: #d4ebff;}#sk-container-id-1 div.sk-serial::before {content: \"\";position: absolute;border-left: 1px solid gray;box-sizing: border-box;top: 0;bottom: 0;left: 50%;z-index: 0;}#sk-container-id-1 div.sk-serial {display: flex;flex-direction: column;align-items: center;background-color: white;padding-right: 0.2em;padding-left: 0.2em;position: relative;}#sk-container-id-1 div.sk-item {position: relative;z-index: 1;}#sk-container-id-1 div.sk-parallel {display: flex;align-items: stretch;justify-content: center;background-color: white;position: relative;}#sk-container-id-1 div.sk-item::before, #sk-container-id-1 div.sk-parallel-item::before {content: \"\";position: absolute;border-left: 1px solid gray;box-sizing: border-box;top: 0;bottom: 0;left: 50%;z-index: -1;}#sk-container-id-1 div.sk-parallel-item {display: flex;flex-direction: column;z-index: 1;position: relative;background-color: white;}#sk-container-id-1 div.sk-parallel-item:first-child::after {align-self: flex-end;width: 50%;}#sk-container-id-1 div.sk-parallel-item:last-child::after {align-self: flex-start;width: 50%;}#sk-container-id-1 div.sk-parallel-item:only-child::after {width: 0;}#sk-container-id-1 div.sk-dashed-wrapped {border: 1px dashed gray;margin: 0 0.4em 0.5em 0.4em;box-sizing: border-box;padding-bottom: 0.4em;background-color: white;}#sk-container-id-1 div.sk-label label {font-family: monospace;font-weight: bold;display: inline-block;line-height: 1.2em;}#sk-container-id-1 div.sk-label-container {text-align: center;}#sk-container-id-1 div.sk-container {/* jupyter's `normalize.less` sets `[hidden] { display: none; }` but bootstrap.min.css set `[hidden] { display: none !important; }` so we also need the `!important` here to be able to override the default hidden behavior on the sphinx rendered scikit-learn.org. See: https://github.com/scikit-learn/scikit-learn/issues/21755 */display: inline-block !important;position: relative;}#sk-container-id-1 div.sk-text-repr-fallback {display: none;}</style><div id=\"sk-container-id-1\" class=\"sk-top-container\"><div class=\"sk-text-repr-fallback\"><pre>XGBRegressor(base_score=0.5, booster=&#x27;gbtree&#x27;, callbacks=None,\n",
       "             colsample_bylevel=1, colsample_bynode=1, colsample_bytree=1,\n",
       "             early_stopping_rounds=None, enable_categorical=False, eta=0.05,\n",
       "             eval_metric=None, feature_types=None, gamma=0, gpu_id=-1,\n",
       "             grow_policy=&#x27;depthwise&#x27;, importance_type=None,\n",
       "             interaction_constraints=&#x27;&#x27;, learning_rate=0.0500000007,\n",
       "             max_bin=256, max_cat_threshold=64, max_cat_to_onehot=4,\n",
       "             max_delta_step=0, max_depth=1000, max_leaves=0,\n",
       "             min_child_weight=200, missing=nan, monotone_constraints=&#x27;()&#x27;,\n",
       "             n_estimators=2000, n_jobs=0, num_parallel_tree=1, predictor=&#x27;auto&#x27;, ...)</pre><b>In a Jupyter environment, please rerun this cell to show the HTML representation or trust the notebook. <br />On GitHub, the HTML representation is unable to render, please try loading this page with nbviewer.org.</b></div><div class=\"sk-container\" hidden><div class=\"sk-item\"><div class=\"sk-estimator sk-toggleable\"><input class=\"sk-toggleable__control sk-hidden--visually\" id=\"sk-estimator-id-1\" type=\"checkbox\" checked><label for=\"sk-estimator-id-1\" class=\"sk-toggleable__label sk-toggleable__label-arrow\">XGBRegressor</label><div class=\"sk-toggleable__content\"><pre>XGBRegressor(base_score=0.5, booster=&#x27;gbtree&#x27;, callbacks=None,\n",
       "             colsample_bylevel=1, colsample_bynode=1, colsample_bytree=1,\n",
       "             early_stopping_rounds=None, enable_categorical=False, eta=0.05,\n",
       "             eval_metric=None, feature_types=None, gamma=0, gpu_id=-1,\n",
       "             grow_policy=&#x27;depthwise&#x27;, importance_type=None,\n",
       "             interaction_constraints=&#x27;&#x27;, learning_rate=0.0500000007,\n",
       "             max_bin=256, max_cat_threshold=64, max_cat_to_onehot=4,\n",
       "             max_delta_step=0, max_depth=1000, max_leaves=0,\n",
       "             min_child_weight=200, missing=nan, monotone_constraints=&#x27;()&#x27;,\n",
       "             n_estimators=2000, n_jobs=0, num_parallel_tree=1, predictor=&#x27;auto&#x27;, ...)</pre></div></div></div></div></div>"
      ],
      "text/plain": [
       "XGBRegressor(base_score=0.5, booster='gbtree', callbacks=None,\n",
       "             colsample_bylevel=1, colsample_bynode=1, colsample_bytree=1,\n",
       "             early_stopping_rounds=None, enable_categorical=False, eta=0.05,\n",
       "             eval_metric=None, feature_types=None, gamma=0, gpu_id=-1,\n",
       "             grow_policy='depthwise', importance_type=None,\n",
       "             interaction_constraints='', learning_rate=0.0500000007,\n",
       "             max_bin=256, max_cat_threshold=64, max_cat_to_onehot=4,\n",
       "             max_delta_step=0, max_depth=1000, max_leaves=0,\n",
       "             min_child_weight=200, missing=nan, monotone_constraints='()',\n",
       "             n_estimators=2000, n_jobs=0, num_parallel_tree=1, predictor='auto', ...)"
      ]
     },
     "execution_count": 15,
     "metadata": {},
     "output_type": "execute_result"
    }
   ],
   "source": [
    "model = xgb.XGBRegressor(max_depth=1000,\n",
    "    n_estimators=2000,\n",
    "    min_child_weight=200, \n",
    "    colsample_bytree=1, \n",
    "    subsample=1, \n",
    "    eta=0.05,    \n",
    "    seed=9)\n",
    "model.fit(training_dates,training_temps)"
   ]
  },
  {
   "cell_type": "code",
   "execution_count": 16,
   "id": "cbc2c28a",
   "metadata": {},
   "outputs": [
    {
     "name": "stdout",
     "output_type": "stream",
     "text": [
      "RMSE of model 8.286116120907812\n"
     ]
    }
   ],
   "source": [
    "prediction= model.predict(testing_dates)\n",
    "print(\"RMSE of model\",mean_squared_error(testing_temps,prediction)**(1/2.0))"
   ]
  }
 ],
 "metadata": {
  "kernelspec": {
   "display_name": "Python 3 (ipykernel)",
   "language": "python",
   "name": "python3"
  },
  "language_info": {
   "codemirror_mode": {
    "name": "ipython",
    "version": 3
   },
   "file_extension": ".py",
   "mimetype": "text/x-python",
   "name": "python",
   "nbconvert_exporter": "python",
   "pygments_lexer": "ipython3",
   "version": "3.9.10"
  }
 },
 "nbformat": 4,
 "nbformat_minor": 5
}
